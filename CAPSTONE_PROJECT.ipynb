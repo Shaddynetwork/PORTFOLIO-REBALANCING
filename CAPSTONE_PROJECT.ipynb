{
  "nbformat": 4,
  "nbformat_minor": 0,
  "metadata": {
    "colab": {
      "provenance": [],
      "authorship_tag": "ABX9TyMPzzp+U5hELFgPLjLR6yRV",
      "include_colab_link": true
    },
    "kernelspec": {
      "name": "python3",
      "display_name": "Python 3"
    },
    "language_info": {
      "name": "python"
    }
  },
  "cells": [
    {
      "cell_type": "markdown",
      "metadata": {
        "id": "view-in-github",
        "colab_type": "text"
      },
      "source": [
        "<a href=\"https://colab.research.google.com/github/Shaddynetwork/PORTFOLIO-REBALANCING/blob/main/CAPSTONE_PROJECT.ipynb\" target=\"_parent\"><img src=\"https://colab.research.google.com/assets/colab-badge.svg\" alt=\"Open In Colab\"/></a>"
      ]
    },
    {
      "cell_type": "code",
      "execution_count": null,
      "metadata": {
        "id": "HP2GSANHnxGc"
      },
      "outputs": [],
      "source": [
        "import yfinance as yf"
      ]
    },
    {
      "cell_type": "code",
      "source": [
        "# sp500 data from yahoo finance\n",
        "\n"
      ],
      "metadata": {
        "id": "D1a4Zu2oAtYp"
      },
      "execution_count": null,
      "outputs": []
    },
    {
      "cell_type": "code",
      "source": [
        "# prompt: get sp500 data using yahoo finance\n",
        "\n",
        "sp500 = yf.Ticker(\"^GSPC\")\n",
        "\n",
        "# get historical market data\n",
        "sp500_data = sp500.history(period=\"max\")\n",
        "\n",
        "# show actions (dividends, splits, capital gains)\n",
        "sp500_dividends = sp500.dividends\n",
        "sp500_splits = sp500.splits\n",
        "\n",
        "# show financial statements\n",
        "sp500_income_statement = sp500.get_income_statement(period=\"annual\")\n",
        "sp500_balance_sheet = sp500.get_balance_sheet(period=\"annual\")\n",
        "sp500_cash_flow = sp500.get_cashflow(period=\"annual\")\n",
        "\n",
        "# show major holders\n",
        "sp500_major_holders = sp500.major_holders\n",
        "\n",
        "# show institutional holders\n",
        "sp500_institutional_holders = sp500.institutional_holders\n",
        "\n",
        "# show earnings\n",
        "sp500_earnings = sp500.earnings\n",
        "\n",
        "# show sustainability\n",
        "sp500_sustainability = sp500.sustainability\n",
        "\n",
        "# show analysts recommendations\n",
        "sp500_recommendations = sp500.recommendations\n",
        "\n",
        "# show next event (earnings, etc)\n",
        "sp500_calendar = sp500.calendar\n",
        "\n"
      ],
      "metadata": {
        "colab": {
          "base_uri": "https://localhost:8080/",
          "height": 216
        },
        "id": "NyRuyKs3BQy1",
        "outputId": "6bce7205-1531-473e-cb92-88a14a7e58b8"
      },
      "execution_count": null,
      "outputs": [
        {
          "output_type": "error",
          "ename": "AttributeError",
          "evalue": "'Ticker' object has no attribute 'get_income_statement'",
          "traceback": [
            "\u001b[0;31m---------------------------------------------------------------------------\u001b[0m",
            "\u001b[0;31mAttributeError\u001b[0m                            Traceback (most recent call last)",
            "\u001b[0;32m<ipython-input-5-ff4ecd052479>\u001b[0m in \u001b[0;36m<cell line: 13>\u001b[0;34m()\u001b[0m\n\u001b[1;32m     11\u001b[0m \u001b[0;34m\u001b[0m\u001b[0m\n\u001b[1;32m     12\u001b[0m \u001b[0;31m# show financial statements\u001b[0m\u001b[0;34m\u001b[0m\u001b[0;34m\u001b[0m\u001b[0m\n\u001b[0;32m---> 13\u001b[0;31m \u001b[0msp500_income_statement\u001b[0m \u001b[0;34m=\u001b[0m \u001b[0msp500\u001b[0m\u001b[0;34m.\u001b[0m\u001b[0mget_income_statement\u001b[0m\u001b[0;34m(\u001b[0m\u001b[0mperiod\u001b[0m\u001b[0;34m=\u001b[0m\u001b[0;34m\"annual\"\u001b[0m\u001b[0;34m)\u001b[0m\u001b[0;34m\u001b[0m\u001b[0;34m\u001b[0m\u001b[0m\n\u001b[0m\u001b[1;32m     14\u001b[0m \u001b[0msp500_balance_sheet\u001b[0m \u001b[0;34m=\u001b[0m \u001b[0msp500\u001b[0m\u001b[0;34m.\u001b[0m\u001b[0mget_balance_sheet\u001b[0m\u001b[0;34m(\u001b[0m\u001b[0mperiod\u001b[0m\u001b[0;34m=\u001b[0m\u001b[0;34m\"annual\"\u001b[0m\u001b[0;34m)\u001b[0m\u001b[0;34m\u001b[0m\u001b[0;34m\u001b[0m\u001b[0m\n\u001b[1;32m     15\u001b[0m \u001b[0msp500_cash_flow\u001b[0m \u001b[0;34m=\u001b[0m \u001b[0msp500\u001b[0m\u001b[0;34m.\u001b[0m\u001b[0mget_cashflow\u001b[0m\u001b[0;34m(\u001b[0m\u001b[0mperiod\u001b[0m\u001b[0;34m=\u001b[0m\u001b[0;34m\"annual\"\u001b[0m\u001b[0;34m)\u001b[0m\u001b[0;34m\u001b[0m\u001b[0;34m\u001b[0m\u001b[0m\n",
            "\u001b[0;31mAttributeError\u001b[0m: 'Ticker' object has no attribute 'get_income_statement'"
          ]
        }
      ]
    },
    {
      "cell_type": "markdown",
      "source": [
        "# 1. Data"
      ],
      "metadata": {
        "id": "AFq-lt09sOQI"
      }
    },
    {
      "cell_type": "markdown",
      "source": [
        "##### ETF and Equity - Japan, China, Africa, India over 25 years or more"
      ],
      "metadata": {
        "id": "TSsYwTz-sYYA"
      }
    },
    {
      "cell_type": "markdown",
      "source": [
        "# 2. Frequency - Daily and Weekly -  Price,H,L,V"
      ],
      "metadata": {
        "id": "e19KTKeYs8ij"
      }
    },
    {
      "cell_type": "markdown",
      "source": [
        "#3. Create a dataframe of the returns from the price"
      ],
      "metadata": {
        "id": "hU2f-IUHtZ60"
      }
    },
    {
      "cell_type": "markdown",
      "source": [
        "# 4. CNN model for the returns"
      ],
      "metadata": {
        "id": "bNCf9DjZtr_Y"
      }
    },
    {
      "cell_type": "code",
      "source": [
        "#rjt1984"
      ],
      "metadata": {
        "id": "9QcffpqaBZAP"
      },
      "execution_count": 1,
      "outputs": []
    },
    {
      "cell_type": "code",
      "source": [],
      "metadata": {
        "id": "8Skt2U0PxWCJ"
      },
      "execution_count": null,
      "outputs": []
    }
  ]
}